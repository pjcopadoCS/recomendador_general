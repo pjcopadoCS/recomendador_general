{
 "cells": [
  {
   "cell_type": "code",
   "execution_count": 20,
   "id": "initial_id",
   "metadata": {
    "ExecuteTime": {
     "end_time": "2024-10-18T05:39:19.052206Z",
     "start_time": "2024-10-18T05:39:18.958425Z"
    },
    "collapsed": true
   },
   "outputs": [
    {
     "name": "stdout",
     "output_type": "stream",
     "text": [
      "ID : 0\n",
      "Name : 0\n",
      "Type : 0\n",
      "Year : 46\n",
      "Country : 0\n",
      "Region : 19\n",
      "Winery : 4\n",
      "Volume : 0\n",
      "DO : 46\n",
      "GrapeVariety : 15\n",
      "VineyardAge : 372\n",
      "Taste : 17\n",
      "Alcohol : 0\n",
      "Temperature : 12\n",
      "Allergens : 28\n",
      "FoodParing : 0\n",
      "Price : 0\n",
      "Award : 0\n",
      "Link : 0\n",
      "ID              0\n",
      "Name            0\n",
      "Type            0\n",
      "Year            0\n",
      "Country         0\n",
      "Region          0\n",
      "Winery          0\n",
      "Volume          0\n",
      "DO              0\n",
      "GrapeVariety    0\n",
      "VineyardAge     0\n",
      "Taste           0\n",
      "Alcohol         0\n",
      "Temperature     0\n",
      "Allergens       0\n",
      "FoodParing      0\n",
      "Price           0\n",
      "Award           0\n",
      "Link            0\n",
      "dtype: int64\n"
     ]
    },
    {
     "name": "stderr",
     "output_type": "stream",
     "text": [
      "/tmp/ipykernel_67865/586159355.py:28: FutureWarning: A value is trying to be set on a copy of a DataFrame or Series through chained assignment using an inplace method.\n",
      "The behavior will change in pandas 3.0. This inplace method will never work because the intermediate object on which we are setting values always behaves as a copy.\n",
      "\n",
      "For example, when doing 'df[col].method(value, inplace=True)', try using 'df.method({col: value}, inplace=True)' or df[col] = df[col].method(value) instead, to perform the operation inplace on the original object.\n",
      "\n",
      "\n",
      "  df_new[col].fillna(df_new[col].mode()[0], inplace=True)\n"
     ]
    }
   ],
   "source": [
    "import pandas as pd\n",
    "\n",
    "df = pd.read_excel('wines_dataset.xlsx')\n",
    "#display(df.columns)\n",
    "#display(df.head())\n",
    "\n",
    "df_new = pd.read_excel(\"a_lot_wines_dataset.xlsx\")\n",
    "#display(df_new.columns)\n",
    "\n",
    "# join food columns in 'FoodParing' column\n",
    "df_new['FoodParing'] = df_new[['general_pairings','Vegetables', 'Red_meat', 'aperitifs', 'seafood', 'fish', 'pizza', 'pasta','desserts','occasion']].apply(lambda x: ', '.join(x.dropna().astype(str)), axis=1)\n",
    "\n",
    "\n",
    "df_new.rename(columns={'type':'Taste',\"category\":\"Type\",'code': 'ID','title':'Name','seniority':'Year',\"country\":\"Country\",\"volume\":\"Volume\",\"price\":\"Price\",\"winery_region\":\"Region\",\"winery\":\"Winery\",\"denomination_of_origin\":\"DO\",\"variety\":\"GrapeVariety\",\"vineyard_age\":\"VineyardAge\",\n",
    "                       \"awarded_wines\":\"Award\",\"percentage_of_alcohol\":\"Alcohol\",\"temperature\":\"Temperature\"}, inplace=True)\n",
    "\n",
    "df_new['Link'] = df_new['Name'].apply(lambda x: f' https://disndis.com/products/{x.replace(\" \",\"-\")}?')\n",
    "df_new['Allergens'] = df_new['sulphites']\n",
    "\n",
    "#display(df[['Taste','Type']])\n",
    "#display(df_new[['category','Type']])\n",
    "df_new=df_new[df.columns]\n",
    "df_new['Award']= df_new['Award'].apply(lambda x: True if pd.isnull(x) else False)\n",
    "\n",
    "\n",
    "for col in df_new.columns:\n",
    "    print(f'{col} : {df_new[col].isnull().sum()}')\n",
    "    df_new[col].fillna(df_new[col].mode()[0], inplace=True)\n",
    "print(df_new.isnull().sum())\n",
    "\n",
    "df_new.to_excel('clean_wines_dataset.xlsx', index=False)"
   ]
  },
  {
   "cell_type": "code",
   "execution_count": 13,
   "id": "90bdf00d610d4e99",
   "metadata": {},
   "outputs": [
    {
     "data": {
      "text/plain": [
       "0                      NaN\n",
       "1                      NaN\n",
       "2      18 years on average\n",
       "3            40 - 50 years\n",
       "4            30 - 40 years\n",
       "              ...         \n",
       "666                    NaN\n",
       "667                    NaN\n",
       "668                    NaN\n",
       "669                    NaN\n",
       "670          10 - 30 years\n",
       "Name: VineyardAge, Length: 671, dtype: object"
      ]
     },
     "execution_count": 13,
     "metadata": {},
     "output_type": "execute_result"
    }
   ],
   "source": [
    "df_new['VineyardAge']"
   ]
  }
 ],
 "metadata": {
  "kernelspec": {
   "display_name": "vins",
   "language": "python",
   "name": "python3"
  },
  "language_info": {
   "codemirror_mode": {
    "name": "ipython",
    "version": 3
   },
   "file_extension": ".py",
   "mimetype": "text/x-python",
   "name": "python",
   "nbconvert_exporter": "python",
   "pygments_lexer": "ipython3",
   "version": "3.12.7"
  }
 },
 "nbformat": 4,
 "nbformat_minor": 5
}
